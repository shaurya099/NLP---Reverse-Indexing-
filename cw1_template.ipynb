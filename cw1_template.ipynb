{
 "cells": [
  {
   "cell_type": "code",
   "execution_count": null,
   "metadata": {},
   "outputs": [],
   "source": [
    "class InvertedIndex:\n",
    "    \"\"\"\n",
    "    Construct Inverted Index\n",
    "    \"\"\"\n",
    "    def __init__(self):\n",
    "        \n",
    "        \n",
    "    def read_data(self, path: str) -> list:\n",
    "        \"\"\"\n",
    "        Read files from a directory and then append the data of each file into a list.\n",
    "        \"\"\"\n",
    "\n",
    "    def process_document(self, document: str) -> list:\n",
    "        \"\"\"\n",
    "        pre-process a document and return a list of its terms\n",
    "        str->list\"\"\"\n",
    "    \n",
    "    def index_corpus(self, documents: list) -> None:\n",
    "        \"\"\"\n",
    "        index given documents\n",
    "        list->None\"\"\"\n",
    "     \n",
    "    def proximity_search(self, term1: str, term2: str) -> dict:\n",
    "        \"\"\"\n",
    "        1) check whether given two terms appear within a window\n",
    "        2) calculate the number of their co-existance in a document\n",
    "        3) add the document id and the number of matches into a dict\n",
    "        return the dict\"\"\"\n",
    "    \n",
    "    "
   ]
  },
  {
   "cell_type": "code",
   "execution_count": null,
   "metadata": {},
   "outputs": [],
   "source": [
    "def main():\n",
    "    \"main call function\"\n",
    "    index = InvertedIndex() # initilaise the index\n",
    "    corpus = index.read_data('path') # specify the directory path in which files are located\n",
    "    index.index_corpus(corpus) # index documents/corpus\n",
    "    \n",
    "    search_term = input(\"Enter your query: \") # insert a query\n",
    "    # write a demo to check entered search terms against the inverted index\n",
    "        # 1) len(search _term) == one --> return the following: \n",
    "            # a) the number of documents in which a term appears.\n",
    "            # b) all document ids in which a term appears.\n",
    "            \n",
    "        # 2) len(search_term) == 2 --> return the following: \n",
    "            # a) the number of documents in which the entered terms appear within a pre-defined window.\n",
    "            # b) all document ids in which the terms appear within that window.\n",
    "    return index\n",
    "    \n",
    "index = main()"
   ]
  }
 ],
 "metadata": {
  "kernelspec": {
   "display_name": "Python 3",
   "language": "python",
   "name": "python3"
  },
  "language_info": {
   "codemirror_mode": {
    "name": "ipython",
    "version": 3
   },
   "file_extension": ".py",
   "mimetype": "text/x-python",
   "name": "python",
   "nbconvert_exporter": "python",
   "pygments_lexer": "ipython3",
   "version": "3.8.5"
  }
 },
 "nbformat": 4,
 "nbformat_minor": 4
}
